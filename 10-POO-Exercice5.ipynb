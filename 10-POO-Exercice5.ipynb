{
 "cells": [
  {
   "cell_type": "markdown",
   "source": [
    "**Mini Projet de Programmation Orientée Objet en Python**\n",
    "\n",
    "**Titre du Projet :** Prédiction de la Consommation d'Énergie\n",
    "\n",
    "**Description :** Ce mini-projet est destiné aux étudiants pour les aider à comprendre les concepts de la programmation orientée objet en Python tout en abordant une problématique de datascience. L'objectif est de développer un modèle de prédiction de la consommation d'énergie en fonction de certaines caractéristiques du bâtiment.\n",
    "\n",
    "**Tâches à Réaliser :**\n",
    "\n",
    "1. **Création des Classes :**\n",
    "   - Créez une classe `Batiment` qui servira de modèle de base pour toutes les classes de bâtiments, avec des attributs tels que la superficie, le nombre de chambres, l'âge, etc.\n",
    "   - Créez des classes héritées pour différents types de bâtiments, par exemple, `Maison`, `Appartement`, `Bureau`, etc. Chacune de ces classes doit hériter de la classe `Batiment` et peut avoir des attributs spécifiques.\n",
    "\n",
    "2. **Prétraitement des Données :**\n",
    "   - Générez des données synthétiques pour différents bâtiments, y compris la consommation d'énergie.\n",
    "   - Divisez les données en un ensemble d'entraînement et un ensemble de test.\n",
    "\n",
    "3. **Modélisation :**\n",
    "   - Créez une classe `ModeleConsommationEnergie` qui contient le modèle de régression pour prédire la consommation d'énergie en fonction des caractéristiques du bâtiment.\n",
    "   - Entraînez le modèle sur l'ensemble d'entraînement en utilisant les caractéristiques pertinentes (par exemple, la superficie, le nombre de chambres, etc.) comme variables indépendantes et la consommation d'énergie comme variable dépendante.\n",
    "\n",
    "4. **Évaluation du Modèle :**\n",
    "   - Évaluez les performances du modèle en utilisant des mesures telles que le coefficient de détermination (R²) et l'erreur quadratique moyenne (RMSE) sur l'ensemble de test.\n",
    "   - Affichez les prédictions du modèle pour quelques exemples du jeu de données de test.\n",
    "\n",
    "5. **Documentation et Présentation :**\n",
    "   - Les étudiants doivent documenter leur code de manière claire et fournir des commentaires appropriés.\n",
    "   - Présentez les résultats de manière compréhensible, avec des visualisations si nécessaire.\n",
    "\n"
   ],
   "metadata": {
    "collapsed": false
   }
  },
  {
   "cell_type": "code",
   "execution_count": 1,
   "outputs": [],
   "source": [
    "import random\n",
    "import pandas as pd\n",
    "from sklearn.model_selection import train_test_split\n",
    "from sklearn.linear_model import LinearRegression\n",
    "from sklearn.metrics import r2_score, mean_squared_error\n",
    "\n",
    "class Batiment:\n",
    "    pass\n",
    "\n",
    "class Maison(Batiment):\n",
    "    pass\n",
    "\n",
    "class ModeleConsommationEnergie:\n",
    "    pass\n",
    "\n",
    "\n"
   ],
   "metadata": {
    "collapsed": false,
    "ExecuteTime": {
     "end_time": "2023-10-11T20:28:55.157382Z",
     "start_time": "2023-10-11T20:28:48.482234Z"
    }
   }
  },
  {
   "cell_type": "code",
   "execution_count": 2,
   "outputs": [],
   "source": [
    "# Génération de données synthétiques\n",
    "data = []\n",
    "for _ in range(100):\n",
    "    superficie = random.uniform(50, 300)\n",
    "    chambres = random.randint(1, 5)\n",
    "    age = random.uniform(1, 30)\n",
    "    jardin = random.choice([0, 1])\n",
    "    consommation_energie = superficie * 10 - chambres * 5 + age * 2 + (jardin * 20 if jardin else 0)\n",
    "    data.append([superficie, chambres, age, jardin, consommation_energie])\n",
    "\n",
    "# Création d'un DataFrame\n",
    "df = pd.DataFrame(data, columns=['superficie', 'chambres', 'age', 'jardin', 'consommation_energie'])\n",
    "\n"
   ],
   "metadata": {
    "collapsed": false,
    "ExecuteTime": {
     "end_time": "2023-10-11T20:29:03.696149Z",
     "start_time": "2023-10-11T20:29:03.689562Z"
    }
   }
  },
  {
   "cell_type": "code",
   "execution_count": null,
   "outputs": [],
   "source": [
    "# Division des données en ensemble d'entraînement et ensemble de test\n",
    "X = df[['superficie', 'chambres', 'age', 'jardin']]  # Caractéristiques\n",
    "y = df['consommation_energie']  # Variable cible\n",
    "X_train, X_test, y_train, y_test = train_test_split(X, y, test_size=0.2, random_state=42)\n",
    "\n"
   ],
   "metadata": {
    "collapsed": false
   }
  },
  {
   "cell_type": "code",
   "execution_count": null,
   "outputs": [],
   "source": [
    "# Entraînement du modèle\n",
    "modele_conso = ModeleConsommationEnergie()\n",
    "modele_conso.entrainer_modele(X_train, y_train)\n",
    "\n"
   ],
   "metadata": {
    "collapsed": false
   }
  },
  {
   "cell_type": "code",
   "execution_count": null,
   "outputs": [],
   "source": [
    "# Évaluation du modèle\n",
    "r2, rmse = modele_conso.evaluer_modele(X_test, y_test)\n",
    "print(f\"Coefficient de détermination (R²) : {r2}\")\n",
    "print(f\"Erreur quadratique moyenne (RMSE) : {rmse}\")"
   ],
   "metadata": {
    "collapsed": false
   }
  }
 ],
 "metadata": {
  "kernelspec": {
   "display_name": "Python 3",
   "language": "python",
   "name": "python3"
  },
  "language_info": {
   "codemirror_mode": {
    "name": "ipython",
    "version": 2
   },
   "file_extension": ".py",
   "mimetype": "text/x-python",
   "name": "python",
   "nbconvert_exporter": "python",
   "pygments_lexer": "ipython2",
   "version": "2.7.6"
  }
 },
 "nbformat": 4,
 "nbformat_minor": 0
}
