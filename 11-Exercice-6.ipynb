{
 "cells": [
  {
   "cell_type": "code",
   "execution_count": null,
   "metadata": {
    "collapsed": true
   },
   "outputs": [],
   "source": []
  },
  {
   "cell_type": "markdown",
   "source": [
    "Objectif : Créer un système de gestion d'une école en utilisant l'héritage des classes en Python.\n",
    "\n",
    "**Instructions :**\n",
    "\n",
    "1. Créez une classe de base appelée \"Personne\" avec les attributs suivants : nom, prénom, âge.\n",
    "\n",
    "2. Créez deux sous-classes de \"Personne\" : \"Élève\" et \"Enseignant\". L'élève a un attribut supplémentaire \"niveau\" (par exemple, \"Première année\", \"Deuxième année\", etc.), et l'enseignant a un attribut supplémentaire \"matière\" (par exemple, \"Mathématiques\", \"Histoire\", etc.).\n",
    "\n",
    "3. Créez une classe \"École\" qui contient une liste de personnes (élèves et enseignants). Ajoutez des méthodes pour ajouter des élèves et des enseignants à l'école.\n",
    "\n",
    "4. Ajoutez des méthodes pour afficher la liste des élèves et des enseignants de l'école.\n",
    "\n",
    "5. Créez une classe \"Cours\" avec des attributs comme \"nom du cours\", \"enseignant\" (instance de la classe Enseignant), \"élèves\" (une liste d'instances de la classe Élève), et \"salle de classe\".\n",
    "\n",
    "6. Ajoutez des méthodes pour ajouter et retirer des élèves du cours.\n",
    "\n"
   ],
   "metadata": {
    "collapsed": false
   }
  },
  {
   "cell_type": "code",
   "execution_count": 1,
   "outputs": [],
   "source": [
    "\n",
    "class Personne:\n",
    "    pass\n",
    "\n",
    "class Eleve(Personne):\n",
    "    pass\n",
    "\n",
    "class Enseignant(Personne):\n",
    "    pass\n",
    "\n",
    "class Ecole:\n",
    "    pass\n",
    "\n",
    "    def ajouter_eleve(self, eleve):\n",
    "        pass\n",
    "\n",
    "    def ajouter_enseignant(self, enseignant):\n",
    "        pass\n",
    "\n",
    "    def afficher_eleves(self):\n",
    "        pass\n",
    "\n",
    "    def afficher_enseignants(self):\n",
    "        pass\n",
    "\n",
    "class Cours:\n",
    "    pass\n",
    "\n",
    "    def ajouter_eleve(self, eleve):\n",
    "        pass\n",
    "\n",
    "    def retirer_eleve(self, eleve):\n",
    "        pass\n",
    "\n",
    "    def afficher_eleves(self):\n",
    "        pass\n",
    "\n"
   ],
   "metadata": {
    "collapsed": false,
    "ExecuteTime": {
     "end_time": "2023-10-12T13:37:02.205716800Z",
     "start_time": "2023-10-12T13:37:02.188719300Z"
    }
   }
  },
  {
   "cell_type": "code",
   "execution_count": 2,
   "outputs": [],
   "source": [
    "# Exemple d'utilisation\n",
    "eleve1 = Eleve(\"Dupont\", \"Jean\", 16, \"Deuxième année\")\n",
    "eleve2 = Eleve(\"Martin\", \"Sophie\", 15, \"Première année\")\n",
    "enseignant1 = Enseignant(\"Girard\", \"Paul\", 35, \"Mathématiques\")\n",
    "\n"
   ],
   "metadata": {
    "collapsed": false,
    "ExecuteTime": {
     "end_time": "2023-10-12T13:37:16.995394900Z",
     "start_time": "2023-10-12T13:37:16.973397Z"
    }
   }
  },
  {
   "cell_type": "code",
   "execution_count": 3,
   "outputs": [],
   "source": [
    "ecole = Ecole()\n",
    "ecole.ajouter_eleve(eleve1)\n",
    "ecole.ajouter_eleve(eleve2)\n",
    "ecole.ajouter_enseignant(enseignant1)\n",
    "\n"
   ],
   "metadata": {
    "collapsed": false,
    "ExecuteTime": {
     "end_time": "2023-10-12T13:37:17.673398200Z",
     "start_time": "2023-10-12T13:37:17.652400600Z"
    }
   }
  },
  {
   "cell_type": "code",
   "execution_count": 4,
   "outputs": [
    {
     "name": "stdout",
     "output_type": "stream",
     "text": [
      "Élève : Dupont Jean, Niveau : Deuxième année\n",
      "Élève : Martin Sophie, Niveau : Première année\n",
      "Enseignant : Girard Paul, Matière : Mathématiques\n"
     ]
    }
   ],
   "source": [
    "ecole.afficher_eleves()\n",
    "ecole.afficher_enseignants()\n",
    "\n"
   ],
   "metadata": {
    "collapsed": false,
    "ExecuteTime": {
     "end_time": "2023-10-12T13:37:23.936231500Z",
     "start_time": "2023-10-12T13:37:23.928234500Z"
    }
   }
  },
  {
   "cell_type": "code",
   "execution_count": 6,
   "outputs": [],
   "source": [
    "cours1 = Cours(\"Mathématiques avancées\", enseignant1, \"Salle A\")\n",
    "cours1.ajouter_eleve(eleve1)\n",
    "cours1.ajouter_eleve(eleve2)\n"
   ],
   "metadata": {
    "collapsed": false,
    "ExecuteTime": {
     "end_time": "2023-10-12T13:37:37.440719400Z",
     "start_time": "2023-10-12T13:37:37.422718800Z"
    }
   }
  },
  {
   "cell_type": "code",
   "execution_count": 7,
   "outputs": [
    {
     "name": "stdout",
     "output_type": "stream",
     "text": [
      "Cours : Mathématiques avancées\n",
      "Enseignant : Girard Paul\n",
      "Salle de classe : Salle A\n",
      "Élèves inscrits :\n",
      "- Dupont Jean\n",
      "- Martin Sophie\n"
     ]
    }
   ],
   "source": [
    "cours1.afficher_eleves()\n"
   ],
   "metadata": {
    "collapsed": false,
    "ExecuteTime": {
     "end_time": "2023-10-12T13:37:38.902726400Z",
     "start_time": "2023-10-12T13:37:38.884737Z"
    }
   }
  },
  {
   "cell_type": "code",
   "execution_count": null,
   "outputs": [],
   "source": [],
   "metadata": {
    "collapsed": false
   }
  }
 ],
 "metadata": {
  "kernelspec": {
   "display_name": "Python 3",
   "language": "python",
   "name": "python3"
  },
  "language_info": {
   "codemirror_mode": {
    "name": "ipython",
    "version": 2
   },
   "file_extension": ".py",
   "mimetype": "text/x-python",
   "name": "python",
   "nbconvert_exporter": "python",
   "pygments_lexer": "ipython2",
   "version": "2.7.6"
  }
 },
 "nbformat": 4,
 "nbformat_minor": 0
}
