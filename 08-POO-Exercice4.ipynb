{
 "cells": [
  {
   "cell_type": "code",
   "execution_count": null,
   "metadata": {
    "collapsed": true
   },
   "outputs": [],
   "source": []
  },
  {
   "cell_type": "markdown",
   "source": [
    "programmation orientée objet (POO) avec l'héritage. La problématique porte sur la création d'une bibliothèque de médias (livres, films, musique) avec la possibilité d'emprunter des éléments et de gérer les emprunts. Voici l'énoncé du projet, suivi de la solution :\n",
    "\n",
    "**Problématique : Gestion d'une Bibliothèque de Médias en Python**\n",
    "\n",
    "**Objectif :** Créer un système de gestion de bibliothèque de médias en utilisant la programmation orientée objet (POO) en Python. Le système doit prendre en charge les livres, les films et la musique, avec la possibilité d'emprunter et de gérer les emprunts.\n",
    "\n",
    "**Classes Requises :**\n",
    "\n",
    "1. **Classe `Media` :**\n",
    "   - Attributs : `titre`, `auteur`, `année`, `emprunté` (un booléen indiquant si le média est actuellement emprunté)\n",
    "   - Méthodes :\n",
    "     - `__init__(self, titre, auteur, année)` : Initialise un média avec les informations fournies.\n",
    "     - `afficher_informations(self)` : Affiche les informations du média.\n",
    "     - `emprunter(self)` : Marque le média comme emprunté.\n",
    "     - `retourner(self)` : Marque le média comme retourné.\n",
    "\n",
    "2. **Classes dérivées `Livre`, `Film` et `Musique` :**\n",
    "   - Ces classes doivent hériter de la classe `Media` et ajouter des attributs spécifiques (`auteur` pour les livres, `réalisateur` pour les films, `artiste` pour la musique).\n",
    "\n",
    "3. **Classe `Bibliothèque` :**\n",
    "   - Attributs : `nom`, `liste_medias` (une liste d'objets `Media`)\n",
    "   - Méthodes :\n",
    "     - `__init__(self, nom)` : Initialise une bibliothèque avec un nom vide et une liste de médias vide.\n",
    "     - `ajouter_media(self, media)` : Ajoute un média à la liste de médias de la bibliothèque.\n",
    "     - `afficher_medias(self)` : Affiche la liste des médias de la bibliothèque.\n",
    "     - `rechercher_media_par_titre(self, titre)` : Recherche et affiche un média par son titre.\n",
    "     - `emprunter_media(self, titre)` : Emprunte un média par son titre.\n",
    "     - `retourner_media(self, titre)` : Retourne un média par son titre.\n",
    "\n",
    "**Exigences :**\n",
    "- Créez au moins trois médias de types différents (livre, film, musique) et une bibliothèque.\n",
    "- Effectuez des opérations de gestion de médias telles que l'emprunt, le retour et l'affichage.\n",
    "- Assurez-vous que le code est bien commenté et organisé.\n",
    "\n"
   ],
   "metadata": {
    "collapsed": false
   }
  },
  {
   "cell_type": "code",
   "execution_count": 2,
   "outputs": [],
   "source": [
    "class Media:\n",
    "    pass\n",
    "\n",
    "\n",
    "class Livre(Media):\n",
    "   pass\n",
    "\n",
    "\n",
    "class Film(Media):\n",
    "    pass\n",
    "\n",
    "\n",
    "class Musique(Media):\n",
    "    pass\n",
    "\n",
    "\n",
    "class Bibliothèque:\n",
    "    pass\n",
    "\n"
   ],
   "metadata": {
    "collapsed": false,
    "ExecuteTime": {
     "end_time": "2023-10-11T20:21:55.107192Z",
     "start_time": "2023-10-11T20:21:55.101404Z"
    }
   }
  },
  {
   "cell_type": "code",
   "execution_count": 5,
   "outputs": [],
   "source": [
    "# Exemple d'utilisation\n",
    "bibliothèque = Bibliothèque(\"Bibliothèque Centrale\")\n",
    "\n",
    "livre1 = Livre(\"Harry Potter\", \"J.K. Rowling\", 2001, \"J.K. Rowling\")\n",
    "film1 = Film(\"Inception\", \"Christopher Nolan\", 2010)\n",
    "musique1 = Musique(\"Bohemian Rhapsody\", \"Queen\", 1975)"
   ],
   "metadata": {
    "collapsed": false,
    "ExecuteTime": {
     "end_time": "2023-10-11T20:22:20.095491Z",
     "start_time": "2023-10-11T20:22:20.092279Z"
    }
   }
  },
  {
   "cell_type": "code",
   "execution_count": 6,
   "outputs": [],
   "source": [
    "bibliothèque.ajouter_media(livre1)\n",
    "bibliothèque.ajouter_media(film1)\n",
    "bibliothèque.ajouter_media(musique1)"
   ],
   "metadata": {
    "collapsed": false,
    "ExecuteTime": {
     "end_time": "2023-10-11T20:22:20.391444Z",
     "start_time": "2023-10-11T20:22:20.388234Z"
    }
   }
  },
  {
   "cell_type": "code",
   "execution_count": 7,
   "outputs": [
    {
     "name": "stdout",
     "output_type": "stream",
     "text": [
      "Harry Potter a été emprunté.\n"
     ]
    }
   ],
   "source": [
    "bibliothèque.emprunter_media(\"Harry Potter\")"
   ],
   "metadata": {
    "collapsed": false,
    "ExecuteTime": {
     "end_time": "2023-10-11T20:22:27.664950Z",
     "start_time": "2023-10-11T20:22:27.655773Z"
    }
   }
  },
  {
   "cell_type": "code",
   "execution_count": 8,
   "outputs": [
    {
     "name": "stdout",
     "output_type": "stream",
     "text": [
      "Inception a été emprunté.\n"
     ]
    }
   ],
   "source": [
    "bibliothèque.emprunter_media(\"Inception\")\n"
   ],
   "metadata": {
    "collapsed": false,
    "ExecuteTime": {
     "end_time": "2023-10-11T20:22:32.786703Z",
     "start_time": "2023-10-11T20:22:32.777290Z"
    }
   }
  },
  {
   "cell_type": "code",
   "execution_count": 9,
   "outputs": [
    {
     "name": "stdout",
     "output_type": "stream",
     "text": [
      "Medias disponibles dans la bibliothèque 'Bibliothèque Centrale' :\n",
      "Titre : Harry Potter\n",
      "Auteur : J.K. Rowling\n",
      "Année : 2001\n",
      "Emprunté : Oui\n",
      "Titre : Inception\n",
      "Auteur : Christopher Nolan\n",
      "Année : 2010\n",
      "Emprunté : Oui\n",
      "Titre : Bohemian Rhapsody\n",
      "Auteur : Queen\n",
      "Année : 1975\n",
      "Emprunté : Non\n"
     ]
    }
   ],
   "source": [
    "bibliothèque.afficher_medias()"
   ],
   "metadata": {
    "collapsed": false,
    "ExecuteTime": {
     "end_time": "2023-10-11T20:22:34.951754Z",
     "start_time": "2023-10-11T20:22:34.945438Z"
    }
   }
  },
  {
   "cell_type": "code",
   "execution_count": null,
   "outputs": [],
   "source": [],
   "metadata": {
    "collapsed": false
   }
  }
 ],
 "metadata": {
  "kernelspec": {
   "display_name": "Python 3",
   "language": "python",
   "name": "python3"
  },
  "language_info": {
   "codemirror_mode": {
    "name": "ipython",
    "version": 2
   },
   "file_extension": ".py",
   "mimetype": "text/x-python",
   "name": "python",
   "nbconvert_exporter": "python",
   "pygments_lexer": "ipython2",
   "version": "2.7.6"
  }
 },
 "nbformat": 4,
 "nbformat_minor": 0
}
