{
 "cells": [
  {
   "cell_type": "markdown",
   "source": [
    "### Exercice1 : Application de Gestion d'Employés\n",
    "\n",
    ">Créez une application de gestion d'employés en utilisant la programmation orientée objet en Python. Vous aurez trois classes :\n",
    "\n",
    ">Classe de base \"`Employe`\" avec les attributs suivants :\n",
    ">\n",
    ">>**nom** (nom de l'employé)\n",
    ">>**salaire** (salaire de base de l'employé)\n",
    ">>**experience** (nombre d'années d'expérience de l'employé)\n",
    ">\n",
    ">La classe \"`Employe`\" doit avoir une méthode `afficher_details()` qui affiche les détails de l'employé (nom, salaire, expérience).\n",
    ">\n",
    ">\n",
    ">\n",
    ">Sous-classe \"`Manager`\" qui hérite de la classe \"`Employe`\" et a un attribut supplémentaire :\n",
    ">\n",
    ">>**departement** (le département géré par le manager)\n",
    "La sous-classe \"`Manager`\" doit également avoir une méthode `afficher_details()` qui affiche les détails du manager, y compris le département.\n",
    ">\n",
    ">\n",
    ">\n",
    ">Sous-classe \"`Developpeur`\" qui hérite de la classe \"`Employe`\" et a un attribut supplémentaire :\n",
    ">\n",
    ">>**langage** (le langage de programmation préféré du développeur)\n",
    "La sous-classe \"`Developpeur`\" doit également avoir une méthode `afficher_details()` qui affiche les détails du développeur, y compris le langage de programmation."
   ],
   "metadata": {
    "collapsed": false
   }
  },
  {
   "cell_type": "code",
   "execution_count": 1,
   "outputs": [],
   "source": [
    "#Solution\n",
    "# Insérer votre code ici :\n",
    "class Employe:\n",
    "    def __init__(self, nom, salaire, experience):\n",
    "        self.nom = nom\n",
    "        self.salaire = salaire\n",
    "        self.experience = experience\n",
    "\n",
    "    def afficher_details(self):\n",
    "        print(f\"Nom: {self.nom}\")\n",
    "        print(f\"Salaire: {self.salaire} $\")\n",
    "        print(f\"Expérience: {self.experience} ans\")\n",
    "\n",
    "class Manager(Employe):\n",
    "    def __init__(self, nom, salaire, experience, departement):\n",
    "        super().__init__(nom, salaire, experience)\n",
    "        self.departement = departement\n",
    "\n",
    "    def afficher_details(self):\n",
    "        super().afficher_details()\n",
    "        print(f\"Département: {self.departement}\")\n",
    "\n",
    "class Developpeur(Employe):\n",
    "    def __init__(self, nom, salaire, experience, langage):\n",
    "        super().__init__(nom, salaire, experience)\n",
    "        self.langage = langage\n",
    "\n",
    "    def afficher_details(self):\n",
    "        super().afficher_details()\n",
    "        print(f\"Langage de programmation préféré: {self.langage}\")\n",
    "\n"
   ],
   "metadata": {
    "collapsed": false,
    "ExecuteTime": {
     "end_time": "2023-10-12T10:13:50.556395400Z",
     "start_time": "2023-10-12T10:13:50.534394Z"
    }
   }
  },
  {
   "cell_type": "code",
   "execution_count": 2,
   "outputs": [
    {
     "name": "stdout",
     "output_type": "stream",
     "text": [
      "Nom: Alice\n",
      "Salaire: 60000 $\n",
      "Expérience: 5 ans\n",
      "\n",
      "\n",
      "Nom: Bob\n",
      "Salaire: 80000 $\n",
      "Expérience: 8 ans\n",
      "Département: Ressources Humaines\n",
      "\n",
      "\n",
      "Nom: Charlie\n",
      "Salaire: 75000 $\n",
      "Expérience: 6 ans\n",
      "Langage de programmation préféré: Python\n"
     ]
    }
   ],
   "source": [
    "# Exemple d'utilisation\n",
    "employe1 = Employe(\"Alice\", 60000, 5)\n",
    "employe2 = Manager(\"Bob\", 80000, 8, \"Ressources Humaines\")\n",
    "employe3 = Developpeur(\"Charlie\", 75000, 6, \"Python\")\n",
    "\n",
    "# Affichage des détails des employés\n",
    "employe1.afficher_details()\n",
    "print(\"\\n\")\n",
    "employe2.afficher_details()\n",
    "print(\"\\n\")\n",
    "employe3.afficher_details()"
   ],
   "metadata": {
    "collapsed": false,
    "ExecuteTime": {
     "end_time": "2023-10-12T10:13:50.569404200Z",
     "start_time": "2023-10-12T10:13:50.557404500Z"
    }
   }
  },
  {
   "cell_type": "code",
   "execution_count": null,
   "outputs": [],
   "source": [],
   "metadata": {
    "collapsed": false
   }
  }
 ],
 "metadata": {
  "hide_input": false,
  "kernelspec": {
   "display_name": "Python3 default",
   "language": "python",
   "name": "python3"
  },
  "language_info": {
   "codemirror_mode": {
    "name": "ipython",
    "version": 3
   },
   "file_extension": ".py",
   "mimetype": "text/x-python",
   "name": "python",
   "nbconvert_exporter": "python",
   "pygments_lexer": "ipython3",
   "version": "3.6.5"
  },
  "latex_envs": {
   "LaTeX_envs_menu_present": true,
   "autoclose": false,
   "autocomplete": true,
   "bibliofile": "biblio.bib",
   "cite_by": "apalike",
   "current_citInitial": 1,
   "eqLabelWithNumbers": true,
   "eqNumInitial": 1,
   "hotkeys": {
    "equation": "Ctrl-E",
    "itemize": "Ctrl-I"
   },
   "labels_anchors": false,
   "latex_user_defs": false,
   "report_style_numbering": false,
   "user_envs_cfg": false
  }
 },
 "nbformat": 4,
 "nbformat_minor": 2
}
