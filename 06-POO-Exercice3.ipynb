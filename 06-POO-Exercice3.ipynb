{
 "cells": [
  {
   "cell_type": "markdown",
   "source": [
    "### Exercice 3: Projet de Gestion de Voitures en Python\n",
    "\n",
    ">**Objectif** : Créer un ensemble de classes en utilisant la programmation orientée objet (POO) en Python pour représenter différentes voitures et effectuer des opérations de gestion de voitures.\n",
    ">\n",
    ">Classes Requises :\n",
    ">\n",
    ">>Classe Voiture :\n",
    ">\n",
    ">>Attributs : marque, modèle, année, kilométrage, disponibilité (un booléen indiquant si la voiture est disponible à la location)\n",
    ">>Méthodes :\n",
    ">>>__init__(self, marque, modèle, année, kilométrage) : Initialise une voiture avec les informations fournies.\n",
    ">>>afficher_informations(self) : Affiche les informations de la voiture.\n",
    ">>>mettre_a_jour_kilometrage(self, nouveau_kilométrage) : Met à jour le kilométrage de la voiture.\n",
    ">>>louer(self) : Marque la voiture comme louée.\n",
    ">>>rendre(self) : Marque la voiture comme rendue et met à jour le kilométrage.\n",
    ">\n",
    ">\n",
    ">>Classe AgenceDeLocation :\n",
    ">\n",
    ">>>Attributs : nom, liste_voitures (une liste d'objets Voiture)\n",
    "Méthodes :\n",
    ">>>__init__(self, nom) : Initialise une agence de location avec un nom vide et une liste de voitures vide.\n",
    ">>>ajouter_voiture(self, voiture) : Ajoute une voiture à la liste de voitures de l'agence.\n",
    ">>>afficher_voitures_disponibles(self) : Affiche la liste des voitures disponibles à la location.\n",
    ">>>afficher_voitures_louees(self) : Affiche la liste des voitures actuellement louées.\n",
    ">>>rechercher_voiture_par_marque(self, marque) : Recherche et affiche les voitures d'une marque spécifique.\n",
    ">>>rechercher_voiture_par_modèle(self, modèle) : Recherche et affiche les voitures d'un modèle spécifique.\n",
    ">\n",
    ">\n",
    ">Exigences :\n",
    ">\n",
    ">>Créez au moins trois objets Voiture et une agence de location.\n",
    ">>Effectuez des opérations de gestion de voitures telles que la location, la mise à jour du kilométrage et l'affichage des voitures disponibles.\n",
    ">>Assurez-vous que le code est bien commenté et organisé.\n"
   ],
   "metadata": {
    "collapsed": false
   }
  },
  {
   "cell_type": "code",
   "execution_count": 67,
   "outputs": [],
   "source": [
    "class Voiture:\n",
    "    def __init__(self, marque, modèle, année, kilométrage):\n",
    "        self.marque = marque\n",
    "        self.modèle = modèle\n",
    "        self.année = année\n",
    "        self.kilométrage = kilométrage\n",
    "        self.disponibilité = True\n",
    "\n",
    "    def afficher_informations(self):\n",
    "        pass\n",
    "\n",
    "    def mettre_a_jour_kilometrage(self, nouveau_kilométrage):\n",
    "        pass\n",
    "\n",
    "    def louer(self):\n",
    "        pass\n",
    "\n",
    "    def rendre(self, nouveau_kilométrage):\n",
    "        pass\n",
    "\n",
    "\n",
    "class AgenceDeLocation:\n",
    "    def __init__(self, nom):\n",
    "        self.nom = nom\n",
    "        self.liste_voitures = []\n",
    "\n",
    "    def ajouter_voiture(self, voiture):\n",
    "        pass\n",
    "\n",
    "    def afficher_voitures_disponibles(self):\n",
    "        pass\n",
    "\n",
    "    def afficher_voitures_louees(self):\n",
    "        pass\n",
    "\n",
    "    def rechercher_voiture_par_marque(self, marque):\n",
    "        pass\n",
    "\n",
    "    def rechercher_voiture_par_modèle(self, modèle):\n",
    "        pass\n",
    "\n",
    "\n"
   ],
   "metadata": {
    "collapsed": false,
    "ExecuteTime": {
     "end_time": "2023-10-08T12:49:32.790039Z",
     "start_time": "2023-10-08T12:49:32.782550Z"
    }
   }
  },
  {
   "cell_type": "code",
   "execution_count": 68,
   "outputs": [],
   "source": [
    "# Exemple d'utilisation\n",
    "agence = AgenceDeLocation(\"Ma Location de Voitures\")\n",
    "\n",
    "voiture1 = Voiture(\"Toyota\", \"Yaris\", 2020, 50000)\n",
    "voiture2 = Voiture(\"Honda\", \"Civic\", 2019, 40000)\n",
    "voiture3 = Voiture(\"Ford\", \"Focus\", 2021, 30000)\n",
    "\n",
    "agence.ajouter_voiture(voiture1)\n",
    "agence.ajouter_voiture(voiture2)\n",
    "agence.ajouter_voiture(voiture3)\n"
   ],
   "metadata": {
    "collapsed": false,
    "ExecuteTime": {
     "end_time": "2023-10-08T12:49:33.290960Z",
     "start_time": "2023-10-08T12:49:33.289509Z"
    }
   }
  },
  {
   "cell_type": "code",
   "execution_count": 69,
   "outputs": [
    {
     "name": "stdout",
     "output_type": "stream",
     "text": [
      "Toyota Yaris a été louée.\n",
      "Honda Civic a été louée.\n",
      "Toyota Yaris a été rendue.\n"
     ]
    }
   ],
   "source": [
    "voiture1.louer()\n",
    "voiture2.louer()\n",
    "voiture1.rendre(52000)"
   ],
   "metadata": {
    "collapsed": false,
    "ExecuteTime": {
     "end_time": "2023-10-08T12:49:34.235387Z",
     "start_time": "2023-10-08T12:49:34.232603Z"
    }
   }
  },
  {
   "cell_type": "code",
   "execution_count": 70,
   "outputs": [
    {
     "name": "stdout",
     "output_type": "stream",
     "text": [
      "Voitures disponibles à la location :\n",
      "Marque : Toyota\n",
      "Modèle : Yaris\n",
      "Année : 2020\n",
      "Kilométrage : 52000 km\n",
      "Disponibilité : Oui\n",
      "Marque : Ford\n",
      "Modèle : Focus\n",
      "Année : 2021\n",
      "Kilométrage : 30000 km\n",
      "Disponibilité : Oui\n"
     ]
    }
   ],
   "source": [
    "agence.afficher_voitures_disponibles()\n"
   ],
   "metadata": {
    "collapsed": false,
    "ExecuteTime": {
     "end_time": "2023-10-08T12:49:36.154540Z",
     "start_time": "2023-10-08T12:49:36.150551Z"
    }
   }
  },
  {
   "cell_type": "code",
   "execution_count": 71,
   "outputs": [
    {
     "name": "stdout",
     "output_type": "stream",
     "text": [
      "Voitures actuellement louées :\n",
      "Marque : Honda\n",
      "Modèle : Civic\n",
      "Année : 2019\n",
      "Kilométrage : 40000 km\n",
      "Disponibilité : Non\n"
     ]
    }
   ],
   "source": [
    "agence.afficher_voitures_louees()\n"
   ],
   "metadata": {
    "collapsed": false,
    "ExecuteTime": {
     "end_time": "2023-10-08T12:49:37.736944Z",
     "start_time": "2023-10-08T12:49:37.733523Z"
    }
   }
  },
  {
   "cell_type": "code",
   "execution_count": 72,
   "outputs": [
    {
     "name": "stdout",
     "output_type": "stream",
     "text": [
      "Voitures de la marque Honda :\n",
      "Marque : Honda\n",
      "Modèle : Civic\n",
      "Année : 2019\n",
      "Kilométrage : 40000 km\n",
      "Disponibilité : Non\n"
     ]
    }
   ],
   "source": [
    "agence.rechercher_voiture_par_marque(\"Honda\")"
   ],
   "metadata": {
    "collapsed": false,
    "ExecuteTime": {
     "end_time": "2023-10-08T12:49:38.722144Z",
     "start_time": "2023-10-08T12:49:38.719682Z"
    }
   }
  },
  {
   "cell_type": "code",
   "execution_count": null,
   "outputs": [],
   "source": [],
   "metadata": {
    "collapsed": false
   }
  }
 ],
 "metadata": {
  "hide_input": false,
  "kernelspec": {
   "display_name": "Python3 default",
   "language": "python",
   "name": "python3"
  },
  "language_info": {
   "codemirror_mode": {
    "name": "ipython",
    "version": 3
   },
   "file_extension": ".py",
   "mimetype": "text/x-python",
   "name": "python",
   "nbconvert_exporter": "python",
   "pygments_lexer": "ipython3",
   "version": "3.6.5"
  },
  "latex_envs": {
   "LaTeX_envs_menu_present": true,
   "autoclose": false,
   "autocomplete": true,
   "bibliofile": "biblio.bib",
   "cite_by": "apalike",
   "current_citInitial": 1,
   "eqLabelWithNumbers": true,
   "eqNumInitial": 1,
   "hotkeys": {
    "equation": "Ctrl-E",
    "itemize": "Ctrl-I"
   },
   "labels_anchors": false,
   "latex_user_defs": false,
   "report_style_numbering": false,
   "user_envs_cfg": false
  }
 },
 "nbformat": 4,
 "nbformat_minor": 2
}
