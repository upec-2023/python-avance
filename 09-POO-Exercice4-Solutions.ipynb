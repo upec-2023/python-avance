{
 "cells": [
  {
   "cell_type": "code",
   "execution_count": null,
   "metadata": {
    "collapsed": true
   },
   "outputs": [],
   "source": []
  },
  {
   "cell_type": "markdown",
   "source": [
    "programmation orientée objet (POO) avec l'héritage. La problématique porte sur la création d'une bibliothèque de médias (livres, films, musique) avec la possibilité d'emprunter des éléments et de gérer les emprunts. Voici l'énoncé du projet, suivi de la solution :\n",
    "\n",
    "**Problématique : Gestion d'une Bibliothèque de Médias en Python**\n",
    "\n",
    "**Objectif :** Créer un système de gestion de bibliothèque de médias en utilisant la programmation orientée objet (POO) en Python. Le système doit prendre en charge les livres, les films et la musique, avec la possibilité d'emprunter et de gérer les emprunts.\n",
    "\n",
    "**Classes Requises :**\n",
    "\n",
    "1. **Classe `Media` :**\n",
    "   - Attributs : `titre`, `auteur`, `année`, `emprunté` (un booléen indiquant si le média est actuellement emprunté)\n",
    "   - Méthodes :\n",
    "     - `__init__(self, titre, auteur, année)` : Initialise un média avec les informations fournies.\n",
    "     - `afficher_informations(self)` : Affiche les informations du média.\n",
    "     - `emprunter(self)` : Marque le média comme emprunté.\n",
    "     - `retourner(self)` : Marque le média comme retourné.\n",
    "\n",
    "2. **Classes dérivées `Livre`, `Film` et `Musique` :**\n",
    "   - Ces classes doivent hériter de la classe `Media` et ajouter des attributs spécifiques (`auteur` pour les livres, `réalisateur` pour les films, `artiste` pour la musique).\n",
    "\n",
    "3. **Classe `Bibliothèque` :**\n",
    "   - Attributs : `nom`, `liste_medias` (une liste d'objets `Media`)\n",
    "   - Méthodes :\n",
    "     - `__init__(self, nom)` : Initialise une bibliothèque avec un nom vide et une liste de médias vide.\n",
    "     - `ajouter_media(self, media)` : Ajoute un média à la liste de médias de la bibliothèque.\n",
    "     - `afficher_medias(self)` : Affiche la liste des médias de la bibliothèque.\n",
    "     - `rechercher_media_par_titre(self, titre)` : Recherche et affiche un média par son titre.\n",
    "     - `emprunter_media(self, titre)` : Emprunte un média par son titre.\n",
    "     - `retourner_media(self, titre)` : Retourne un média par son titre.\n",
    "\n",
    "**Exigences :**\n",
    "- Créez au moins trois médias de types différents (livre, film, musique) et une bibliothèque.\n",
    "- Effectuez des opérations de gestion de médias telles que l'emprunt, le retour et l'affichage.\n",
    "- Assurez-vous que le code est bien commenté et organisé.\n",
    "\n"
   ],
   "metadata": {
    "collapsed": false
   }
  },
  {
   "cell_type": "code",
   "execution_count": 1,
   "outputs": [],
   "source": [
    "class Media:\n",
    "    def __init__(self, titre, auteur, année):\n",
    "        self.titre = titre\n",
    "        self.auteur = auteur\n",
    "        self.année = année\n",
    "        self.emprunté = False\n",
    "\n",
    "    def afficher_informations(self):\n",
    "        print(f\"Titre : {self.titre}\")\n",
    "        print(f\"Auteur : {self.auteur}\")\n",
    "        print(f\"Année : {self.année}\")\n",
    "        print(f\"Emprunté : {'Oui' if self.emprunté else 'Non'}\")\n",
    "\n",
    "    def emprunter(self):\n",
    "        if not self.emprunté:\n",
    "            self.emprunté = True\n",
    "            print(f\"{self.titre} a été emprunté.\")\n",
    "\n",
    "    def retourner(self):\n",
    "        if self.emprunté:\n",
    "            self.emprunté = False\n",
    "            print(f\"{self.titre} a été retourné.\")\n",
    "\n",
    "\n",
    "class Livre(Media):\n",
    "    def __init__(self, titre, ecrivain, année):\n",
    "        super().__init__(titre, ecrivain, année)\n",
    "        self.auteur_livre = ecrivain\n",
    "\n",
    "\n",
    "class Film(Media):\n",
    "    def __init__(self, titre, réalisateur, année):\n",
    "        super().__init__(titre, réalisateur, année)\n",
    "        self.réalisateur = réalisateur\n",
    "\n",
    "\n",
    "class Musique(Media):\n",
    "    def __init__(self, titre, artiste, année):\n",
    "        super().__init__(titre, artiste, année)\n",
    "        self.artiste = artiste\n",
    "\n",
    "\n",
    "class Bibliothèque:\n",
    "    def __init__(self, nom):\n",
    "        self.nom = nom\n",
    "        self.liste_medias = []\n",
    "\n",
    "    def ajouter_media(self, media):\n",
    "        self.liste_medias.append(media)\n",
    "\n",
    "    def afficher_medias(self):\n",
    "        print(f\"Medias disponibles dans la bibliothèque '{self.nom}' :\")\n",
    "        for media in self.liste_medias:\n",
    "            media.afficher_informations()\n",
    "\n",
    "    def rechercher_media_par_titre(self, titre):\n",
    "        for media in self.liste_medias:\n",
    "            if media.titre == titre:\n",
    "                media.afficher_informations()\n",
    "\n",
    "    def emprunter_media(self, titre):\n",
    "        for media in self.liste_medias:\n",
    "            if media.titre == titre:\n",
    "                media.emprunter()\n",
    "\n",
    "    def retourner_media(self, titre):\n",
    "        for media in self.liste_medias:\n",
    "            if media.titre == titre:\n",
    "                media.retourner()\n"
   ],
   "metadata": {
    "collapsed": false,
    "ExecuteTime": {
     "end_time": "2023-10-11T20:24:35.134870Z",
     "start_time": "2023-10-11T20:24:35.132064Z"
    }
   }
  },
  {
   "cell_type": "code",
   "execution_count": 2,
   "outputs": [],
   "source": [
    "# Exemple d'utilisation\n",
    "bibliothèque = Bibliothèque(\"Bibliothèque Centrale\")\n",
    "\n",
    "livre1 = Livre(\"Harry Potter\", \"J.K. Rowling\", 2001)\n",
    "film1 = Film(\"Inception\", \"Christopher Nolan\", 2010)\n",
    "musique1 = Musique(\"Bohemian Rhapsody\", \"Queen\", 1975)"
   ],
   "metadata": {
    "collapsed": false,
    "ExecuteTime": {
     "end_time": "2023-10-11T20:24:37.557412Z",
     "start_time": "2023-10-11T20:24:37.552532Z"
    }
   }
  },
  {
   "cell_type": "code",
   "execution_count": 3,
   "outputs": [],
   "source": [
    "bibliothèque.ajouter_media(livre1)\n",
    "bibliothèque.ajouter_media(film1)\n",
    "bibliothèque.ajouter_media(musique1)"
   ],
   "metadata": {
    "collapsed": false,
    "ExecuteTime": {
     "end_time": "2023-10-11T20:24:37.879457Z",
     "start_time": "2023-10-11T20:24:37.865230Z"
    }
   }
  },
  {
   "cell_type": "code",
   "execution_count": 4,
   "outputs": [
    {
     "name": "stdout",
     "output_type": "stream",
     "text": [
      "Harry Potter a été emprunté.\n"
     ]
    }
   ],
   "source": [
    "bibliothèque.emprunter_media(\"Harry Potter\")"
   ],
   "metadata": {
    "collapsed": false,
    "ExecuteTime": {
     "end_time": "2023-10-11T20:24:38.279939Z",
     "start_time": "2023-10-11T20:24:38.276206Z"
    }
   }
  },
  {
   "cell_type": "code",
   "execution_count": 5,
   "outputs": [
    {
     "name": "stdout",
     "output_type": "stream",
     "text": [
      "Inception a été emprunté.\n"
     ]
    }
   ],
   "source": [
    "bibliothèque.emprunter_media(\"Inception\")\n"
   ],
   "metadata": {
    "collapsed": false,
    "ExecuteTime": {
     "end_time": "2023-10-11T20:24:38.859620Z",
     "start_time": "2023-10-11T20:24:38.853621Z"
    }
   }
  },
  {
   "cell_type": "code",
   "execution_count": 6,
   "outputs": [
    {
     "name": "stdout",
     "output_type": "stream",
     "text": [
      "Medias disponibles dans la bibliothèque 'Bibliothèque Centrale' :\n",
      "Titre : Harry Potter\n",
      "Auteur : J.K. Rowling\n",
      "Année : 2001\n",
      "Emprunté : Oui\n",
      "Titre : Inception\n",
      "Auteur : Christopher Nolan\n",
      "Année : 2010\n",
      "Emprunté : Oui\n",
      "Titre : Bohemian Rhapsody\n",
      "Auteur : Queen\n",
      "Année : 1975\n",
      "Emprunté : Non\n"
     ]
    }
   ],
   "source": [
    "bibliothèque.afficher_medias()"
   ],
   "metadata": {
    "collapsed": false,
    "ExecuteTime": {
     "end_time": "2023-10-11T20:24:39.399653Z",
     "start_time": "2023-10-11T20:24:39.396907Z"
    }
   }
  },
  {
   "cell_type": "code",
   "execution_count": null,
   "outputs": [],
   "source": [],
   "metadata": {
    "collapsed": false
   }
  }
 ],
 "metadata": {
  "kernelspec": {
   "display_name": "Python 3",
   "language": "python",
   "name": "python3"
  },
  "language_info": {
   "codemirror_mode": {
    "name": "ipython",
    "version": 2
   },
   "file_extension": ".py",
   "mimetype": "text/x-python",
   "name": "python",
   "nbconvert_exporter": "python",
   "pygments_lexer": "ipython2",
   "version": "2.7.6"
  }
 },
 "nbformat": 4,
 "nbformat_minor": 0
}
