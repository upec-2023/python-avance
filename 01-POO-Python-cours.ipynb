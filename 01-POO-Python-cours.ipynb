{
 "cells": [
  {
   "cell_type": "markdown",
   "metadata": {
    "deletable": false,
    "editable": false,
    "hide_input": true,
    "run_control": {
     "frozen": true
    }
   },
   "source": [
    "\n",
    "<hr style=\"border-width:2px;border-color:#75DFC1\">\n",
    "\n",
    "<center><h1> Programmation Orientée Objet </h1></center>\n",
    "<center><h2> Les objets et les classes </h2></center>\n",
    "\n",
    "<hr style=\"border-width:2px;border-color:#75DFC1\">\n",
    "\n",
    "###  Introduction:\n",
    "\n",
    ">En Python et dans de nombreux autres langages de programmation, la *programmation orientée objet* consiste à créer des *classes* d’*objets* qui contiennent des informations spécifiques et des outils adaptés à leur manipulation. \n",
    "<br><br>\n",
    "Tous les outils que nous utilisons pour faire de la data science (*DataFrames, modèles de scikit-learn, matplotlib*,...) sont construits de cette manière. Comprendre les mécaniques des objets Python et savoir les utiliser est essentiel pour pouvoir exploiter toutes les fonctionnalités de ces outils bien pratiques.\n",
    "<br><br>\n",
    "De plus, la programmation orientée objet donne au développeur la flexibilité de réadapter un objet à ses besoins grâce à la notion d'*héritage* que nous verrons dans un second temps. En effet, cette technique est très utilisée pour développer des packages tels que **scikit-learn** qui permettent à un utilisateur de développer et évaluer facilement les modèles dont il a besoin.\n",
    "<br><br>\n",
    "\n",
    "### Les Objets\n",
    "\n",
    ">En Python, tout est un objet (exemple: list, Daraframe, ...). On peut utiliser `type()` pour vérifier quel est le type d'un objet `Python`:\n",
    "\n",
    "```python\n",
    "\n",
    "print(type(1))\n",
    "\n",
    "print(type([]))\n",
    "\n",
    "print(type(()))\n",
    "\n",
    "print(type({}))\n",
    "```\n"
   ]
  },
  {
   "cell_type": "code",
   "execution_count": 2,
   "outputs": [
    {
     "name": "stdout",
     "output_type": "stream",
     "text": [
      "<class 'int'>\n",
      "<class 'list'>\n",
      "<class 'tuple'>\n",
      "<class 'dict'>\n"
     ]
    }
   ],
   "source": [
    "print(type(1))\n",
    "\n",
    "print(type([1, 2, 3]))\n",
    "\n",
    "print(type((1, 2, 3)))\n",
    "\n",
    "print(type({\"a\": 1, \"b\": 2, \"c\": 3}))"
   ],
   "metadata": {
    "collapsed": false,
    "ExecuteTime": {
     "end_time": "2023-10-07T08:18:30.948813Z",
     "start_time": "2023-10-07T08:18:30.945207Z"
    }
   }
  },
  {
   "cell_type": "markdown",
   "source": [
    ">Nous savons donc que toutes ces choses sont des objets, mais comment pouvons-nous créer nos propres types d'objets ? C'est là que le mot-clé **class** entre en jeu."
   ],
   "metadata": {
    "collapsed": false
   }
  },
  {
   "cell_type": "markdown",
   "source": [
    "### Les Classes\n",
    ">Les objets définis par l'utilisateur sont créés à l'aide du mot clé class. La classe est un modèle qui définit la nature d'un nouvel objet. A partir des classes, nous pouvons construire des instances. Une instance est un objet spécifique créé à partir d'une classe particulière.\n",
    "\n",
    ">Voyons comment nous pouvons utiliser **class**:\n",
    "\n"
   ],
   "metadata": {
    "collapsed": false
   }
  },
  {
   "cell_type": "code",
   "execution_count": 39,
   "outputs": [
    {
     "name": "stdout",
     "output_type": "stream",
     "text": [
      "<class '__main__.Exemple'>\n"
     ]
    }
   ],
   "source": [
    "# Création d'un objet de base appelé Exemple\n",
    "class Exemple:\n",
    "    pass\n",
    "\n",
    "# Instance de Exemple\n",
    "x = Exemple()\n",
    "\n",
    "print (type(x))"
   ],
   "metadata": {
    "collapsed": false,
    "ExecuteTime": {
     "end_time": "2023-10-08T11:14:57.603576Z",
     "start_time": "2023-10-08T11:14:57.595998Z"
    }
   }
  },
  {
   "cell_type": "markdown",
   "source": [
    ">Par convention, nous donnons aux classes un nom qui commence par une majuscule. Notez que cette variable x est maintenant la référence à notre nouvelle instance d'une classe Exemple. En d'autres termes, **nous instancions la classe Exemple**.\n",
    "\n",
    ">À l'intérieur de la classe, nous avons uniquement une instruction **pass** pour l'instant. Mais nous pouvons définir **des attributs** de classe et **des méthodes**.\n",
    "\n",
    ">**Un attribut** est une caractéristique d'un objet. **Une méthode** est une opération que nous pouvons effectuer avec l'objet.\n",
    "\n",
    ">Par exemple, nous pouvons créer une classe appelée Voiture. Des attributs d'une voiture peuvent être la marque, le prix et la vitesse max de la voiture, tandis qu'une méthode d'une voiture peut être définie par une méthode **.Avance()** qui permet à la voiture d'avancer de 1 km par exemple.\n",
    "\n",
    ">Vous allez mieux comprendre le rôle des attributs avec un exemple."
   ],
   "metadata": {
    "collapsed": false
   }
  },
  {
   "cell_type": "markdown",
   "source": [
    "### Les Attributs\n",
    ">La syntaxe de création d'un attribut est :\n",
    "\n",
    ">```self.attribut = quelque_chose```\n",
    ">\n",
    "> Il y a une méthode spéciale qui s'appelle :\n",
    ">\n",
    ">```__init__()```\n",
    ">\n",
    "> Cette méthode va être utilisée pour initialiser les attributs d'un objet. Par exemple :\n",
    ">\n"
   ],
   "metadata": {
    "collapsed": false
   }
  },
  {
   "cell_type": "code",
   "execution_count": 40,
   "outputs": [],
   "source": [
    "class Voiture:\n",
    "    def __init__(self,marque, prix, vitesse_max):\n",
    "        self.marque = marque\n",
    "        self.prix = prix\n",
    "        self.vitesse_max = vitesse_max\n",
    "\n",
    "\n",
    "voiture_01 = Voiture(marque='Audi', prix=30000, vitesse_max=160)\n",
    "voiture_02 = Voiture(marque='Renault', prix=25000, vitesse_max=130)"
   ],
   "metadata": {
    "collapsed": false,
    "ExecuteTime": {
     "end_time": "2023-10-08T11:15:14.874594Z",
     "start_time": "2023-10-08T11:15:14.865689Z"
    }
   }
  },
  {
   "cell_type": "markdown",
   "source": [
    ">Décortiquons ce que nous avons. La méthode spéciale init()\n",
    "> est appelée automatiquement après que l'objet a été créé (instancié) :\n",
    "> ```def __init__(self, marque, prix, vitesse_max):```\n",
    "> Chaque attribut dans une définition de classe commence par une référence à l'instance d'objet. Par convention celle-ci est nommée **self**. La marque de la voiture est un argument. La valeur est transmise pendant l'instanciation de la classe.\n",
    "> ```self.marque = marque```\n",
    "> Maintenant, nous avons créé deux instances de la classe **Voiture**. Avec deux marques, nous pouvons alors accéder à ces attributs de cette façon :\n",
    ">\n"
   ],
   "metadata": {
    "collapsed": false
   }
  },
  {
   "cell_type": "code",
   "execution_count": 41,
   "outputs": [
    {
     "data": {
      "text/plain": "'Audi'"
     },
     "execution_count": 41,
     "metadata": {},
     "output_type": "execute_result"
    }
   ],
   "source": [
    "voiture_01.marque"
   ],
   "metadata": {
    "collapsed": false,
    "ExecuteTime": {
     "end_time": "2023-10-08T11:15:17.580324Z",
     "start_time": "2023-10-08T11:15:17.577901Z"
    }
   }
  },
  {
   "cell_type": "code",
   "execution_count": 42,
   "outputs": [
    {
     "data": {
      "text/plain": "'Renault'"
     },
     "execution_count": 42,
     "metadata": {},
     "output_type": "execute_result"
    }
   ],
   "source": [
    "voiture_02.marque"
   ],
   "metadata": {
    "collapsed": false,
    "ExecuteTime": {
     "end_time": "2023-10-08T11:15:18.092407Z",
     "start_time": "2023-10-08T11:15:18.083219Z"
    }
   }
  },
  {
   "cell_type": "markdown",
   "source": [
    ">Notez que nous ne mettons pas de parenthèse après `marque`, parce que c'est un attribut et que donc il ne prend aucun argument.\n",
    "\n",
    ">En Python, il y a aussi des attributs de classe d'objet. Ces attributs de classe sont les mêmes pour toute instance de la classe. Par exemple, nous pourrions créer l'attribut `nombre_de_roue` pour la classe **Voiture**. Les voitures (quelle que soit leur marque, leur prix ou d'autres attributs seront toujours avec 4 roues). Nous appliquons cette logique de la manière suivante:"
   ],
   "metadata": {
    "collapsed": false
   }
  },
  {
   "cell_type": "code",
   "execution_count": 43,
   "outputs": [],
   "source": [
    "class Voiture:\n",
    "    # Attributs de Classe\n",
    "    nombre_de_roue = 4\n",
    "\n",
    "    def __init__(self,marque, prix, vitesse_max):\n",
    "        self.marque = marque\n",
    "        self.prix = prix\n",
    "        self.vitesse_max = vitesse_max\n",
    "\n",
    "voiture_01 = Voiture(marque='Audi', prix=30000, vitesse_max=160)"
   ],
   "metadata": {
    "collapsed": false,
    "ExecuteTime": {
     "end_time": "2023-10-08T11:15:48.211827Z",
     "start_time": "2023-10-08T11:15:48.204739Z"
    }
   }
  },
  {
   "cell_type": "code",
   "execution_count": 44,
   "outputs": [
    {
     "data": {
      "text/plain": "4"
     },
     "execution_count": 44,
     "metadata": {},
     "output_type": "execute_result"
    }
   ],
   "source": [
    "voiture_01.nombre_de_roue"
   ],
   "metadata": {
    "collapsed": false,
    "ExecuteTime": {
     "end_time": "2023-10-08T11:15:49.154033Z",
     "start_time": "2023-10-08T11:15:49.145674Z"
    }
   }
  },
  {
   "cell_type": "markdown",
   "source": [
    "### Les Méthodes\n",
    ">**Les méthodes sont des fonctions** définies dans le corps d'une classe. Elles sont utilisées pour effectuer des opérations avec les attributs de nos objets. **Les méthodes** sont essentielles dans le concept d'encapsulation du paradigme POO. Ceci est essentiel pour diviser les responsabilités dans le code, en particulier dans les grosses applications.\n",
    "\n",
    ">Vous pouvez simplement imaginer les méthodes comme des fonctions agissant sur un objet qui prennent l'objet lui-même en compte par le paramètre **self**.\n",
    "\n",
    ">Voyons un exemple de création d'une classe Cercle :"
   ],
   "metadata": {
    "collapsed": false
   }
  },
  {
   "cell_type": "code",
   "execution_count": 47,
   "outputs": [
    {
     "name": "stdout",
     "output_type": "stream",
     "text": [
      "Le rayon est :  2\n",
      "La surface est :  12.56\n"
     ]
    }
   ],
   "source": [
    "class Cercle(object):\n",
    "    pi = 3.14\n",
    "\n",
    "    # Le Cercle est instancié avec un rayon (1 par défaut)\n",
    "    def __init__(self, rayon=1):\n",
    "        self.rayon = rayon\n",
    "\n",
    "    # La méthode surface calcule la surface. Noter comment est utilisé self.\n",
    "    def surface(self):\n",
    "        return self.rayon * self.rayon * Cercle.pi\n",
    "\n",
    "    # Méthode pour redéfinir le rayon\n",
    "    def definirRayon(self, rayon):\n",
    "        self.rayon = rayon\n",
    "\n",
    "    # Méthode for obtenir le rayon (comme en appelant simplement .rayon)\n",
    "    def obtenirRayon(self):\n",
    "        return self.rayon\n",
    "\n",
    "\n",
    "c = Cercle()\n",
    "\n",
    "c.definirRayon(2)\n",
    "print ('Le rayon est : ',c.obtenirRayon())\n",
    "print ('La surface est : ',c.surface())"
   ],
   "metadata": {
    "collapsed": false,
    "ExecuteTime": {
     "end_time": "2023-10-08T11:19:27.605211Z",
     "start_time": "2023-10-08T11:19:27.599077Z"
    }
   }
  },
  {
   "cell_type": "markdown",
   "source": [
    "### Exemple"
   ],
   "metadata": {
    "collapsed": false
   }
  },
  {
   "cell_type": "code",
   "execution_count": 48,
   "outputs": [
    {
     "name": "stdout",
     "output_type": "stream",
     "text": [
      "Nombre total d'instances (attribut de classe) : 3\n",
      "Nombre d'instances spécifiques à objet1 : 1\n",
      "Nombre d'instances spécifiques à objet2 : 1\n",
      "Nombre d'instances spécifiques à objet3 : 1\n"
     ]
    }
   ],
   "source": [
    "class Compteur:\n",
    "    # Attribut de classe pour suivre le nombre total d'instances\n",
    "    compte_total = 0\n",
    "\n",
    "    def __init__(self):\n",
    "        # Attribut d'instance pour suivre le nombre d'instances spécifiques à un objet\n",
    "        self.compte_local = 0\n",
    "        # À chaque création d'instance, on incrémente l'attribut de classe\n",
    "        Compteur.compte_total += 1\n",
    "\n",
    "    def incrementer_compte_local(self):\n",
    "        # À chaque appel de cette méthode, on incrémente l'attribut d'instance\n",
    "        self.compte_local += 1\n",
    "\n",
    "# Création de trois objets de la classe Compteur\n",
    "objet1 = Compteur()\n",
    "objet2 = Compteur()\n",
    "objet3 = Compteur()\n",
    "\n",
    "# Appel de la méthode pour incrémenter le compte local de chaque objet\n",
    "objet1.incrementer_compte_local()\n",
    "objet2.incrementer_compte_local()\n",
    "objet3.incrementer_compte_local()\n",
    "\n",
    "# Affichage du nombre total d'instances et du nombre d'instances spécifiques à chaque objet\n",
    "print(\"Nombre total d'instances (attribut de classe) :\", Compteur.compte_total)\n",
    "print(\"Nombre d'instances spécifiques à objet1 :\", objet1.compte_local)\n",
    "print(\"Nombre d'instances spécifiques à objet2 :\", objet2.compte_local)\n",
    "print(\"Nombre d'instances spécifiques à objet3 :\", objet3.compte_local)"
   ],
   "metadata": {
    "collapsed": false,
    "ExecuteTime": {
     "end_time": "2023-10-08T11:19:44.904199Z",
     "start_time": "2023-10-08T11:19:44.894549Z"
    }
   }
  },
  {
   "cell_type": "markdown",
   "source": [
    "### Exercice : Classe Lampe en Python\n",
    "\n",
    ">Créez une classe Python appelée **\"Lampe\"** qui a les attributs suivants :\n",
    "\n",
    ">**allumee** (un booléen qui indique si la lampe est allumée ou éteinte)\n",
    ">**puissance** (un entier qui représente la puissance de la lampe en watts)\n",
    ">\n",
    ">La classe doit avoir les **méthodes** suivantes :\n",
    ">\n",
    ">**allumer()** : Cette méthode doit mettre l'attribut allumee sur True si la lampe n'est pas déjà allumée.\n",
    ">**eteindre()** : Cette méthode doit mettre l'attribut allumee sur False si la lampe n'est pas déjà éteinte.\n",
    ">**etat()** : Cette méthode doit afficher l'état actuel de la lampe (allumée ou éteinte) et sa puissance.\n",
    "\n"
   ],
   "metadata": {
    "collapsed": false
   }
  },
  {
   "cell_type": "code",
   "execution_count": 49,
   "outputs": [],
   "source": [
    "# Solution\n",
    "# Insérer votre code ici :\n",
    "\n",
    "class Lampe:\n",
    "    pass"
   ],
   "metadata": {
    "collapsed": false,
    "ExecuteTime": {
     "end_time": "2023-10-08T12:04:59.022637Z",
     "start_time": "2023-10-08T12:04:59.020038Z"
    }
   }
  },
  {
   "cell_type": "code",
   "execution_count": 50,
   "outputs": [],
   "source": [
    "# Créez une instance de Lampe\n",
    "ma_lampe = Lampe(60)  # Une lampe de 60 watts\n"
   ],
   "metadata": {
    "collapsed": false,
    "ExecuteTime": {
     "end_time": "2023-10-08T12:05:00.336944Z",
     "start_time": "2023-10-08T12:05:00.322733Z"
    }
   }
  },
  {
   "cell_type": "code",
   "execution_count": 51,
   "outputs": [
    {
     "name": "stdout",
     "output_type": "stream",
     "text": [
      "Lampe allumée\n"
     ]
    }
   ],
   "source": [
    "# Allumez la lampe\n",
    "ma_lampe.allumer()"
   ],
   "metadata": {
    "collapsed": false,
    "ExecuteTime": {
     "end_time": "2023-10-08T12:05:04.710300Z",
     "start_time": "2023-10-08T12:05:04.706950Z"
    }
   }
  },
  {
   "cell_type": "code",
   "execution_count": 52,
   "outputs": [
    {
     "name": "stdout",
     "output_type": "stream",
     "text": [
      "Lampe allumée, puissance : 60 watts\n"
     ]
    }
   ],
   "source": [
    "# Vérifiez l'état de la lampe\n",
    "ma_lampe.etat()  # Devrait afficher \"Lampe allumée, puissance : 60 watts\""
   ],
   "metadata": {
    "collapsed": false,
    "ExecuteTime": {
     "end_time": "2023-10-08T12:05:08.223400Z",
     "start_time": "2023-10-08T12:05:08.219992Z"
    }
   }
  },
  {
   "cell_type": "code",
   "execution_count": 53,
   "outputs": [
    {
     "name": "stdout",
     "output_type": "stream",
     "text": [
      "Lampe éteinte\n"
     ]
    }
   ],
   "source": [
    "# Éteignez la lampe\n",
    "ma_lampe.eteindre()"
   ],
   "metadata": {
    "collapsed": false,
    "ExecuteTime": {
     "end_time": "2023-10-08T12:05:23.532847Z",
     "start_time": "2023-10-08T12:05:23.529223Z"
    }
   }
  },
  {
   "cell_type": "code",
   "execution_count": 54,
   "outputs": [
    {
     "name": "stdout",
     "output_type": "stream",
     "text": [
      "Lampe éteinte, puissance : 60 watts\n"
     ]
    }
   ],
   "source": [
    "# Vérifiez à nouveau l'état de la lampe\n",
    "ma_lampe.etat()  # Devrait afficher \"Lampe éteinte, puissance : 60 watts\""
   ],
   "metadata": {
    "collapsed": false,
    "ExecuteTime": {
     "end_time": "2023-10-08T12:05:28.034217Z",
     "start_time": "2023-10-08T12:05:28.031695Z"
    }
   }
  },
  {
   "cell_type": "code",
   "execution_count": null,
   "outputs": [],
   "source": [],
   "metadata": {
    "collapsed": false
   }
  },
  {
   "cell_type": "markdown",
   "source": [
    "### Les Méthodes spéciales\n",
    ">Nous allons passer en revue quelques **méthodes spéciales**. Les classes en Python peuvent implémenter des opérations spécifiques grâce à certaines méthodes aux noms prédéfinis. Ces méthodes ne sont pas réellement appelées directement, mais par une syntaxe spécifique Python.\n",
    "\n",
    ">Par exemple, créons une classe Livre comme suit :"
   ],
   "metadata": {
    "collapsed": false
   }
  },
  {
   "cell_type": "code",
   "execution_count": 13,
   "outputs": [],
   "source": [
    "class Livre(object):\n",
    "    def __init__(self, titre, auteur, pages):\n",
    "        print (\"Un livre est créé\")\n",
    "        self.titre = titre\n",
    "        self.auteur = auteur\n",
    "        self.pages = pages\n",
    "\n",
    "    def __str__(self):\n",
    "        return \"Titre : %s , auteur : %s, pages : %s \" %(self.titre, self.auteur, self.pages)\n",
    "\n",
    "    def __len__(self):\n",
    "        return self.pages\n",
    "\n",
    "    def __del__(self):\n",
    "        print (\"Un livre a été détruit\")"
   ],
   "metadata": {
    "collapsed": false,
    "ExecuteTime": {
     "end_time": "2023-10-08T10:12:16.116960Z",
     "start_time": "2023-10-08T10:12:16.108514Z"
    }
   }
  },
  {
   "cell_type": "code",
   "execution_count": 14,
   "outputs": [
    {
     "name": "stdout",
     "output_type": "stream",
     "text": [
      "Un livre est créé\n",
      "Titre : Harry Potter à l'école des sorciers , auteur : J.K. Rowling , pages : 200 \n",
      "200\n",
      "Un livre a été détruit\n"
     ]
    }
   ],
   "source": [
    "livre = Livre(titre=\"Harry Potter à l'école des sorciers\", auteur=\"J.K. Rowling \", pages=200)\n",
    "\n",
    "# Méthodes spéciales\n",
    "print (livre)\n",
    "print (len(livre))\n",
    "del livre"
   ],
   "metadata": {
    "collapsed": false,
    "ExecuteTime": {
     "end_time": "2023-10-08T10:13:49.426292Z",
     "start_time": "2023-10-08T10:13:49.415349Z"
    }
   }
  },
  {
   "cell_type": "markdown",
   "source": [
    ">```Les méthodes __init__(), __str__(), __len__() and the __del__() .```\n",
    ">\n",
    "> Ces méthodes spéciales sont facilement identifiées par l'utilisation de caractères de soulignement dans leurs noms. Elles nous permettent d'appliquer des fonctions spécifiques de Python sur des objets créés avec nos classes.\n"
   ],
   "metadata": {
    "collapsed": false
   }
  },
  {
   "cell_type": "markdown",
   "source": [
    "### L'Héritage\n",
    ">**L'héritage** est un moyen de créer de nouvelles classes à l'aide de classes existantes. Les classes nouvellement formées sont appelées classes dérivées, les classes dont nous dérivons sont appelées classes de base. Les avantages de l'héritage sont la réutilisation du code et la réduction de la complexité d'un programme. Les classes dérivées (descendants) remplacent ou étendent la fonctionnalité des classes de base (ancêtres)."
   ],
   "metadata": {
    "collapsed": false
   }
  },
  {
   "cell_type": "code",
   "execution_count": 23,
   "outputs": [],
   "source": [
    "# Classe parente\n",
    "class Vehicule:\n",
    "    def __init__(self, marque, modele):\n",
    "        self.marque = marque\n",
    "        self.modele = modele\n",
    "\n",
    "    def afficher_infos(self):\n",
    "        print(f\"Marque: {self.marque}, Modèle: {self.modele}\")\n"
   ],
   "metadata": {
    "collapsed": false,
    "ExecuteTime": {
     "end_time": "2023-10-08T11:08:51.240501Z",
     "start_time": "2023-10-08T11:08:51.232599Z"
    }
   }
  },
  {
   "cell_type": "code",
   "execution_count": 31,
   "outputs": [
    {
     "name": "stdout",
     "output_type": "stream",
     "text": [
      "Marque: Toyota, Modèle: Yaris\n",
      "Couleur: Bleu\n"
     ]
    }
   ],
   "source": [
    "# Exemple 1\n",
    "# Classe enfant (ou classe dérivée) qui hérite de Vehicule\n",
    "class Voiture(Vehicule):\n",
    "    def __init__(self, marque, modele, couleur):\n",
    "        # Appel du constructeur de la classe parente\n",
    "        Vehicule.__init__(self, marque, modele)\n",
    "        self.couleur = couleur\n",
    "\n",
    "    def afficher_infos(self):\n",
    "        # Appel de la méthode de la classe parente\n",
    "        Vehicule.afficher_infos(self)\n",
    "        print(f\"Couleur: {self.couleur}\")\n",
    "\n",
    "\n",
    "# Création d'une instance de la classe enfant\n",
    "ma_voiture = Voiture(marque=\"Toyota\", modele=\"Yaris\", couleur=\"Bleu\")\n",
    "\n",
    "# Appel de la méthode de la classe enfant\n",
    "ma_voiture.afficher_infos()"
   ],
   "metadata": {
    "collapsed": false,
    "ExecuteTime": {
     "end_time": "2023-10-08T11:12:22.785523Z",
     "start_time": "2023-10-08T11:12:22.778269Z"
    }
   }
  },
  {
   "cell_type": "code",
   "execution_count": 32,
   "outputs": [
    {
     "name": "stdout",
     "output_type": "stream",
     "text": [
      "Marque: Toyota, Modèle: Yaris\n",
      "Couleur: Bleu\n"
     ]
    }
   ],
   "source": [
    "# Exemple 2\n",
    "# Classe enfant (ou classe dérivée) qui hérite de Vehicule\n",
    "class Voiture(Vehicule):\n",
    "    def __init__(self, marque, modele, couleur):\n",
    "        # Appel du constructeur de la classe parente\n",
    "        super().__init__(marque, modele)\n",
    "        self.couleur = couleur\n",
    "\n",
    "    def afficher_infos(self):\n",
    "        # Appel de la méthode de la classe parente\n",
    "        super().afficher_infos()\n",
    "        print(f\"Couleur: {self.couleur}\")\n",
    "\n",
    "\n",
    "# Création d'une instance de la classe enfant\n",
    "ma_voiture = Voiture(marque=\"Toyota\", modele=\"Yaris\", couleur=\"Bleu\")\n",
    "\n",
    "# Appel de la méthode de la classe enfant\n",
    "ma_voiture.afficher_infos()"
   ],
   "metadata": {
    "collapsed": false,
    "ExecuteTime": {
     "end_time": "2023-10-08T11:13:04.552256Z",
     "start_time": "2023-10-08T11:13:04.544745Z"
    }
   }
  },
  {
   "cell_type": "code",
   "execution_count": null,
   "outputs": [],
   "source": [],
   "metadata": {
    "collapsed": false
   }
  },
  {
   "cell_type": "markdown",
   "source": [
    "### Exercice"
   ],
   "metadata": {
    "collapsed": false
   }
  },
  {
   "cell_type": "code",
   "execution_count": 16,
   "outputs": [],
   "source": [
    "projets = [\"pr_GameOfThrones\", \"HarryPotter\", \"pr_Avengers\"]\n",
    "\n",
    "class Utilisateur:\n",
    "    def __init__(self, nom, prenom):\n",
    "        self.nom = nom\n",
    "        self.prenom = prenom\n",
    "\n",
    "    def __str__(self):\n",
    "        return f\"Utilisateur {self.nom} {self.prenom}\"\n",
    "\n",
    "    def afficher_projets(self):\n",
    "        for projet in projets:\n",
    "            print(projet)\n"
   ],
   "metadata": {
    "collapsed": false,
    "ExecuteTime": {
     "end_time": "2023-10-08T10:27:35.792432Z",
     "start_time": "2023-10-08T10:27:35.786260Z"
    }
   }
  },
  {
   "cell_type": "code",
   "execution_count": 17,
   "outputs": [
    {
     "name": "stdout",
     "output_type": "stream",
     "text": [
      "pr_GameOfThrones\n",
      "HarryPotter\n",
      "pr_Avengers\n"
     ]
    }
   ],
   "source": [
    "paul = Utilisateur(nom=\"Durand\", prenom=\"Paul\")\n",
    "paul.afficher_projets()"
   ],
   "metadata": {
    "collapsed": false,
    "ExecuteTime": {
     "end_time": "2023-10-08T10:27:36.000013Z",
     "start_time": "2023-10-08T10:27:35.994862Z"
    }
   }
  },
  {
   "cell_type": "markdown",
   "source": [
    ">Paul est un profil junior, mais il a accès à tous les projets y compris les projets protégés qui commencent par \"pr_\".\n",
    "Créer une classe `Junior` similaire à la classe `Utilisateur` qui n'affiche pas les projets protégés pour Paul"
   ],
   "metadata": {
    "collapsed": false
   }
  },
  {
   "cell_type": "code",
   "execution_count": 18,
   "outputs": [],
   "source": [
    "# Insérer votre code ici (sans l'héritage):\n",
    "class Junior:\n",
    "    pass\n"
   ],
   "metadata": {
    "collapsed": false,
    "ExecuteTime": {
     "end_time": "2023-10-08T10:32:34.497895Z",
     "start_time": "2023-10-08T10:32:34.491148Z"
    }
   }
  },
  {
   "cell_type": "code",
   "execution_count": 19,
   "outputs": [
    {
     "name": "stdout",
     "output_type": "stream",
     "text": [
      "HarryPotter\n"
     ]
    }
   ],
   "source": [
    "paul = Junior(nom=\"Durand\", prenom=\"Paul\")\n",
    "paul.afficher_projets()"
   ],
   "metadata": {
    "collapsed": false,
    "ExecuteTime": {
     "end_time": "2023-10-08T10:32:34.942507Z",
     "start_time": "2023-10-08T10:32:34.937948Z"
    }
   }
  },
  {
   "cell_type": "code",
   "execution_count": 37,
   "outputs": [],
   "source": [
    "# Insérer votre code ici (avec l'héritage):\n",
    "\n",
    "class Junior(Utilisateur):\n",
    "    pass"
   ],
   "metadata": {
    "collapsed": false,
    "ExecuteTime": {
     "end_time": "2023-10-08T11:14:41.729619Z",
     "start_time": "2023-10-08T11:14:41.720643Z"
    }
   }
  },
  {
   "cell_type": "code",
   "execution_count": 38,
   "outputs": [
    {
     "name": "stdout",
     "output_type": "stream",
     "text": [
      "HarryPotter\n"
     ]
    }
   ],
   "source": [
    "paul = Junior(nom=\"Durand\", prenom=\"Paul\")\n",
    "paul.afficher_projets()"
   ],
   "metadata": {
    "collapsed": false,
    "ExecuteTime": {
     "end_time": "2023-10-08T11:14:42.447688Z",
     "start_time": "2023-10-08T11:14:42.445627Z"
    }
   }
  }
 ],
 "metadata": {
  "hide_input": false,
  "kernelspec": {
   "display_name": "Python3 default",
   "language": "python",
   "name": "python3"
  },
  "language_info": {
   "codemirror_mode": {
    "name": "ipython",
    "version": 3
   },
   "file_extension": ".py",
   "mimetype": "text/x-python",
   "name": "python",
   "nbconvert_exporter": "python",
   "pygments_lexer": "ipython3",
   "version": "3.6.5"
  },
  "latex_envs": {
   "LaTeX_envs_menu_present": true,
   "autoclose": false,
   "autocomplete": true,
   "bibliofile": "biblio.bib",
   "cite_by": "apalike",
   "current_citInitial": 1,
   "eqLabelWithNumbers": true,
   "eqNumInitial": 1,
   "hotkeys": {
    "equation": "Ctrl-E",
    "itemize": "Ctrl-I"
   },
   "labels_anchors": false,
   "latex_user_defs": false,
   "report_style_numbering": false,
   "user_envs_cfg": false
  }
 },
 "nbformat": 4,
 "nbformat_minor": 2
}
