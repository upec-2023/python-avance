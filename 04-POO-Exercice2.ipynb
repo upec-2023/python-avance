{
 "cells": [
  {
   "cell_type": "markdown",
   "source": [
    "### Exercice 2 : Simulation Bancaire en Python\n",
    "\n",
    ">Description : Créez une simulation bancaire en Python qui comprend les classes suivantes : `CompteBancaire`, `CompteEpargne` et `CompteCourant`. La classe de base `CompteBancaire` doit contenir les attributs suivants :\n",
    ">\n",
    ">>`titulaire` (le nom du titulaire du compte)\n",
    ">>`solde` (le solde du compte)\n",
    ">\n",
    ">Elle doit également avoir les méthodes suivantes :\n",
    ">\n",
    ">>`__init__(self, titulaire, solde)` : Un constructeur pour initialiser le compte avec le nom du titulaire et le solde initial.\n",
    ">>`deposer(self, montant)` : Pour déposer de l'argent sur le compte.\n",
    ">>`retirer(self, montant)` : Pour retirer de l'argent du compte.\n",
    ">\n",
    ">La classe `CompteEpargne` doit hériter de la classe `CompteBancaire` et inclure un attribut supplémentaire :\n",
    ">\n",
    ">>`taux_interet` (le taux d'intérêt annuel)\n",
    ">\n",
    ">Elle doit également avoir les méthodes suivantes :\n",
    ">\n",
    ">>`calculer_interets(self)` : Pour calculer les intérêts mensuels sur le solde en fonction du taux d'intérêt et les ajouter au solde.\n",
    ">\n",
    ">\n",
    ">La classe `CompteCourant` doit également hériter de la classe `CompteBancaire` et inclure un attribut supplémentaire :\n",
    ">\n",
    ">>`decouvert_autorise` (le montant autorisé en découvert)\n",
    ">\n",
    ">Elle doit avoir les méthodes suivantes :\n",
    ">\n",
    ">>`retirer(self, montant)` : Cette méthode doit prendre en compte le découvert autorisé, permettant de retirer de l'argent même si le solde est insuffisant, tant que le montant ne dépasse pas le découvert autorisé.\n"
   ],
   "metadata": {
    "collapsed": false
   }
  },
  {
   "cell_type": "code",
   "execution_count": 57,
   "outputs": [],
   "source": [
    "class CompteBancaire:\n",
    "    pass\n",
    "\n",
    "class CompteEpargne(CompteBancaire):\n",
    "    pass\n",
    "\n",
    "class CompteCourant(CompteBancaire):\n",
    "    pass\n",
    "\n"
   ],
   "metadata": {
    "collapsed": false,
    "ExecuteTime": {
     "end_time": "2023-10-08T12:30:52.624597Z",
     "start_time": "2023-10-08T12:30:52.598386Z"
    }
   }
  },
  {
   "cell_type": "code",
   "execution_count": 58,
   "outputs": [
    {
     "name": "stdout",
     "output_type": "stream",
     "text": [
      "Solde du compte épargne de Alice: 1004.1666666666666\n",
      "Solde du compte courant de Bob: -200\n"
     ]
    }
   ],
   "source": [
    "# Exemple d'utilisation\n",
    "compte_epargne = CompteEpargne(\"Alice\", 1000, 0.05)\n",
    "compte_courant = CompteCourant(\"Bob\", 500, 200)\n",
    "\n",
    "compte_epargne.calculer_interets()\n",
    "print(f\"Solde du compte épargne de {compte_epargne.titulaire}: {compte_epargne.solde}\")\n",
    "\n",
    "compte_courant.retirer(700)\n",
    "print(f\"Solde du compte courant de {compte_courant.titulaire}: {compte_courant.solde}\")"
   ],
   "metadata": {
    "collapsed": false,
    "ExecuteTime": {
     "end_time": "2023-10-08T12:30:54.036533Z",
     "start_time": "2023-10-08T12:30:54.018541Z"
    }
   }
  }
 ],
 "metadata": {
  "hide_input": false,
  "kernelspec": {
   "display_name": "Python3 default",
   "language": "python",
   "name": "python3"
  },
  "language_info": {
   "codemirror_mode": {
    "name": "ipython",
    "version": 3
   },
   "file_extension": ".py",
   "mimetype": "text/x-python",
   "name": "python",
   "nbconvert_exporter": "python",
   "pygments_lexer": "ipython3",
   "version": "3.6.5"
  },
  "latex_envs": {
   "LaTeX_envs_menu_present": true,
   "autoclose": false,
   "autocomplete": true,
   "bibliofile": "biblio.bib",
   "cite_by": "apalike",
   "current_citInitial": 1,
   "eqLabelWithNumbers": true,
   "eqNumInitial": 1,
   "hotkeys": {
    "equation": "Ctrl-E",
    "itemize": "Ctrl-I"
   },
   "labels_anchors": false,
   "latex_user_defs": false,
   "report_style_numbering": false,
   "user_envs_cfg": false
  }
 },
 "nbformat": 4,
 "nbformat_minor": 2
}
