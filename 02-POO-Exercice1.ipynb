{
 "cells": [
  {
   "cell_type": "markdown",
   "source": [
    "### Exercice1 : Application de Gestion d'Employés\n",
    "\n",
    ">Créez une application de gestion d'employés en utilisant la programmation orientée objet en Python. Vous aurez trois classes :\n",
    "\n",
    ">Classe de base \"`Employe`\" avec les attributs suivants :\n",
    ">\n",
    ">>**nom** (nom de l'employé)\n",
    ">>**salaire** (salaire de base de l'employé)\n",
    ">>**experience** (nombre d'années d'expérience de l'employé)\n",
    ">\n",
    ">La classe \"`Employe`\" doit avoir une méthode `afficher_details()` qui affiche les détails de l'employé (nom, salaire, expérience).\n",
    ">\n",
    ">\n",
    ">\n",
    ">Sous-classe \"`Manager`\" qui hérite de la classe \"`Employe`\" et a un attribut supplémentaire :\n",
    ">\n",
    ">>**departement** (le département géré par le manager)\n",
    "La sous-classe \"`Manager`\" doit également avoir une méthode `afficher_details()` qui affiche les détails du manager, y compris le département.\n",
    ">\n",
    ">\n",
    ">\n",
    ">Sous-classe \"`Developpeur`\" qui hérite de la classe \"`Employe`\" et a un attribut supplémentaire :\n",
    ">\n",
    ">>**langage** (le langage de programmation préféré du développeur)\n",
    "La sous-classe \"`Developpeur`\" doit également avoir une méthode `afficher_details()` qui affiche les détails du développeur, y compris le langage de programmation."
   ],
   "metadata": {
    "collapsed": false
   }
  },
  {
   "cell_type": "code",
   "execution_count": 55,
   "outputs": [],
   "source": [
    "#Solution\n",
    "# Insérer votre code ici :\n",
    "class Employe:\n",
    "    pass\n",
    "\n",
    "class Manager(Employe):\n",
    "    pass\n",
    "\n",
    "class Developpeur(Employe):\n",
    "    pass\n",
    "\n"
   ],
   "metadata": {
    "collapsed": false,
    "ExecuteTime": {
     "end_time": "2023-10-08T12:21:21.505218Z",
     "start_time": "2023-10-08T12:21:21.499112Z"
    }
   }
  },
  {
   "cell_type": "code",
   "execution_count": 56,
   "outputs": [
    {
     "name": "stdout",
     "output_type": "stream",
     "text": [
      "Nom: Alice\n",
      "Salaire: 60000 $\n",
      "Expérience: 5 ans\n",
      "\n",
      "\n",
      "Nom: Bob\n",
      "Salaire: 80000 $\n",
      "Expérience: 8 ans\n",
      "Département: Ressources Humaines\n",
      "\n",
      "\n",
      "Nom: Charlie\n",
      "Salaire: 75000 $\n",
      "Expérience: 6 ans\n",
      "Langage de programmation préféré: Python\n"
     ]
    }
   ],
   "source": [
    "# Exemple d'utilisation\n",
    "employe1 = Employe(\"Alice\", 60000, 5)\n",
    "employe2 = Manager(\"Bob\", 80000, 8, \"Ressources Humaines\")\n",
    "employe3 = Developpeur(\"Charlie\", 75000, 6, \"Python\")\n",
    "\n",
    "# Affichage des détails des employés\n",
    "employe1.afficher_details()\n",
    "print(\"\\n\")\n",
    "employe2.afficher_details()\n",
    "print(\"\\n\")\n",
    "employe3.afficher_details()"
   ],
   "metadata": {
    "collapsed": false,
    "ExecuteTime": {
     "end_time": "2023-10-08T12:21:22.106501Z",
     "start_time": "2023-10-08T12:21:22.088678Z"
    }
   }
  }
 ],
 "metadata": {
  "hide_input": false,
  "kernelspec": {
   "display_name": "Python3 default",
   "language": "python",
   "name": "python3"
  },
  "language_info": {
   "codemirror_mode": {
    "name": "ipython",
    "version": 3
   },
   "file_extension": ".py",
   "mimetype": "text/x-python",
   "name": "python",
   "nbconvert_exporter": "python",
   "pygments_lexer": "ipython3",
   "version": "3.6.5"
  },
  "latex_envs": {
   "LaTeX_envs_menu_present": true,
   "autoclose": false,
   "autocomplete": true,
   "bibliofile": "biblio.bib",
   "cite_by": "apalike",
   "current_citInitial": 1,
   "eqLabelWithNumbers": true,
   "eqNumInitial": 1,
   "hotkeys": {
    "equation": "Ctrl-E",
    "itemize": "Ctrl-I"
   },
   "labels_anchors": false,
   "latex_user_defs": false,
   "report_style_numbering": false,
   "user_envs_cfg": false
  }
 },
 "nbformat": 4,
 "nbformat_minor": 2
}
